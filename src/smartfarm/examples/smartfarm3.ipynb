{
 "cells": [
  {
   "cell_type": "code",
   "execution_count": 1,
   "id": "57bdd5d5",
   "metadata": {},
   "outputs": [],
   "source": [
    "# Import necessary modules\n",
    "import matplotlib.pyplot as plt\n",
    "import numpy as np\n",
    "import os\n",
    "import pandas as pd\n",
    "import sys\n",
    "\n",
    "from dotenv import load_dotenv\n",
    "from pathlib import Path\n",
    "sys.path.insert(0, '..')\n",
    "\n",
    "from core.genetic_algorithm.ga_bounds import DesignSpaceBounds\n",
    "from core.genetic_algorithm.ga_params import GeneticAlgorithmParams\n",
    "from core.genetic_algorithm.ga_run import GeneticAlgorithm\n",
    "\n",
    "from core.model.model_carrying_capacities import ModelCarryingCapacities\n",
    "from core.model.model_disturbances import ModelDisturbances\n",
    "from core.model.model_growth_rates import ModelGrowthRates\n",
    "from core.model.model_initial_conditions import ModelInitialConditions\n",
    "from core.model.model_params import ModelParams\n",
    "from core.model.model_typical_disturbances import ModelTypicalDisturbances"
   ]
  },
  {
   "cell_type": "markdown",
   "id": "9307b69c",
   "metadata": {},
   "source": [
    "## Environment Variables"
   ]
  },
  {
   "cell_type": "code",
   "execution_count": 2,
   "id": "b7721d54",
   "metadata": {},
   "outputs": [
    {
     "data": {
      "text/plain": [
       "True"
      ]
     },
     "execution_count": 2,
     "metadata": {},
     "output_type": "execute_result"
    }
   ],
   "source": [
    "load_dotenv(dotenv_path='../core/.env')"
   ]
  },
  {
   "cell_type": "code",
   "execution_count": 3,
   "id": "81e85084",
   "metadata": {},
   "outputs": [],
   "source": [
    "# General AWS config\n",
    "ACCOUNT_ID        = os.getenv(\"ACCOUNT_ID\")\n",
    "ACCESS_KEY_ID     = os.getenv(\"ACCESS_KEY_ID\")\n",
    "SECRET_ACCESS_KEY = os.getenv(\"SECRET_ACCESS_KEY\")\n",
    "VPC_ID            = os.getenv(\"VPC_ID\")\n",
    "SG_ID             = os.getenv(\"SG_ID\")\n",
    "EC2_PUBLIC_IP     = os.getenv(\"EC2_PUBLIC_IP\")\n",
    "\n",
    "# Smartfarm-specific AWS config\n",
    "AWS_REGION    = os.getenv(\"AWS_REGION\")\n",
    "BUCKET        = os.getenv(\"BUCKET\")\n",
    "ROOT_PREFIX   = os.getenv(\"ROOT_PREFIX\")\n",
    "FUNCTION_NAME = os.getenv(\"FUNCTION_NAME\")"
   ]
  },
  {
   "cell_type": "markdown",
   "id": "92f42ad5",
   "metadata": {},
   "source": [
    "## Model Parameters"
   ]
  },
  {
   "cell_type": "code",
   "execution_count": 4,
   "id": "13b2a1a8",
   "metadata": {},
   "outputs": [],
   "source": [
    "# Set ModelParams (time stepping)\n",
    "model_params = ModelParams(\n",
    "    dt = 0.1, # hours/step\n",
    "    simulation_hours = 2900 # hours\n",
    ")"
   ]
  },
  {
   "cell_type": "code",
   "execution_count": 5,
   "id": "db8841a2",
   "metadata": {},
   "outputs": [],
   "source": [
    "# Set ModelCarryingCapacities\n",
    "carrying_capacities = ModelCarryingCapacities(\n",
    "    kh = 3.0,  # m\n",
    "    kA = 0.65, # m2\n",
    "    kN = 20,   # number of leaves\n",
    "    kc = 1000, # number of spikelets\n",
    "    kP = 0.25  # kg\n",
    ")"
   ]
  },
  {
   "cell_type": "code",
   "execution_count": 6,
   "id": "f88fbecf",
   "metadata": {},
   "outputs": [],
   "source": [
    "# Set ModelGrowthRates\n",
    "growth_rates = ModelGrowthRates(\n",
    "    ah = 0.01,   # 1/hr\n",
    "    aA = 0.0105, # 1/hr\n",
    "    aN = 0.011,  # 1/hr\n",
    "    ac = 0.01,   # 1/hr\n",
    "    aP = 0.005   # 1/hr\n",
    ")"
   ]
  },
  {
   "cell_type": "code",
   "execution_count": 7,
   "id": "ece74eaa",
   "metadata": {},
   "outputs": [],
   "source": [
    "# Set ModelInitialConditions\n",
    "initial_conditions = ModelInitialConditions(\n",
    "    h0=carrying_capacities.kh/model_params.simulation_hours, # m/hr\n",
    "    A0=carrying_capacities.kA/model_params.simulation_hours, # m2/hr\n",
    "    N0=carrying_capacities.kN/model_params.simulation_hours, # number/hr\n",
    "    c0=carrying_capacities.kc/model_params.simulation_hours, # number/hr\n",
    "    P0=carrying_capacities.kP/model_params.simulation_hours  # kg/hr\n",
    ")"
   ]
  },
  {
   "cell_type": "markdown",
   "id": "d5e261df",
   "metadata": {},
   "source": [
    "## Design Space"
   ]
  },
  {
   "cell_type": "code",
   "execution_count": 8,
   "id": "529355be",
   "metadata": {},
   "outputs": [],
   "source": [
    "lower_bounds_dict = {\n",
    "    \"irrigation_frequency\":    1,     # once every X hours\n",
    "    \"irrigation_amount\":       0.01,  # inches per irrigation\n",
    "    \"fertilization_frequency\": 24,    # once every X hours (once a day)\n",
    "    \"fertilization_amount\":    0.001  # pounds per fertilization\n",
    "}\n",
    "lower_bounds = np.array([value for key, value in lower_bounds_dict.items()])"
   ]
  },
  {
   "cell_type": "code",
   "execution_count": 9,
   "id": "46959f88",
   "metadata": {},
   "outputs": [],
   "source": [
    "upper_bounds_dict = {\n",
    "    \"irrigation_frequency\":    24 * 7 * 2,   # once every 2 weeks\n",
    "    \"irrigation_amount\":       10,           # inches per irrigation\n",
    "    \"fertilization_frequency\": 30 * 24 * 3,  # once every 3 months\n",
    "    \"fertilization_amount\":    1             # pounds per fertilization\n",
    "}\n",
    "upper_bounds = np.array([value for key, value in upper_bounds_dict.items()])"
   ]
  },
  {
   "cell_type": "code",
   "execution_count": 10,
   "id": "0e60237a",
   "metadata": {},
   "outputs": [],
   "source": [
    "# Set DesignSpaceBounds\n",
    "bounds = DesignSpaceBounds(\n",
    "    lower_bounds=lower_bounds,\n",
    "    upper_bounds=upper_bounds\n",
    ")"
   ]
  },
  {
   "cell_type": "markdown",
   "id": "d4cff486",
   "metadata": {},
   "source": [
    "## Genetic Algorithm Parameters"
   ]
  },
  {
   "cell_type": "code",
   "execution_count": 11,
   "id": "feaabb91",
   "metadata": {},
   "outputs": [],
   "source": [
    "# Genetic algorithm style inputs\n",
    "ga_params = GeneticAlgorithmParams(\n",
    "    num_parents     = 10,  # number of design strings to breed\n",
    "    num_kids        = 10,  # number of offspring design strings\n",
    "    num_generations = 200, # number of generations\n",
    "    num_members     = 100, # number of simulations per generation\n",
    "    weight_height   = 0.5, # weight for height in cost function\n",
    "    weight_biomass  = 0.5  # weight for fruit biomass in cost function\n",
    ")"
   ]
  },
  {
   "cell_type": "markdown",
   "id": "28990764",
   "metadata": {},
   "source": [
    "## Input Disturbances"
   ]
  },
  {
   "cell_type": "code",
   "execution_count": 12,
   "id": "0a397873",
   "metadata": {},
   "outputs": [],
   "source": [
    "# Hourly precipitation, radiation, and temperature from CSV\n",
    "hourly_input_disturbances = pd.read_csv(\n",
    "    '../io/inputs/hourly_prcp_rad_temp_iowa.csv',\n",
    "    header=None,\n",
    "    names=[\n",
    "        'Hourly Precipitation (mm)',\n",
    "        'Hourly Radiation (W/m2)',\n",
    "        'Temperature (C)'\n",
    "    ]\n",
    ")"
   ]
  },
  {
   "cell_type": "code",
   "execution_count": 13,
   "id": "102b500b",
   "metadata": {},
   "outputs": [],
   "source": [
    "# Set ModelDisturbances\n",
    "input_disturbances = ModelDisturbances(\n",
    "    precipitation = hourly_input_disturbances['Hourly Precipitation (mm)'].to_numpy(),\n",
    "    radiation     = hourly_input_disturbances['Hourly Radiation (W/m2)'].to_numpy(),\n",
    "    temperature   = hourly_input_disturbances['Temperature (C)'].to_numpy()\n",
    ")"
   ]
  },
  {
   "cell_type": "markdown",
   "id": "984f6ee0",
   "metadata": {},
   "source": [
    "## Optimal/Typical Values"
   ]
  },
  {
   "cell_type": "code",
   "execution_count": 14,
   "id": "bca0d5c0",
   "metadata": {},
   "outputs": [],
   "source": [
    "typical_disturbances = ModelTypicalDisturbances(\n",
    "        optimal_cumulative_water      = 28,  # inches/acre per season\n",
    "        optimal_cumulative_fertilizer = 355, # lbs/acre per season\n",
    "        typical_temperature           = np.mean(input_disturbances.temperature),   # typical temperature over the season\n",
    "        typical_radiation             = 3/4 * np.max(input_disturbances.radiation) # typical radiation over the season\n",
    "    )"
   ]
  },
  {
   "cell_type": "markdown",
   "id": "c56ca7be",
   "metadata": {},
   "source": [
    "## Genetic Algorithm"
   ]
  },
  {
   "cell_type": "code",
   "execution_count": 15,
   "id": "1e7b691c",
   "metadata": {},
   "outputs": [],
   "source": [
    "# Create GeneticAlgorithm object from all inputs\n",
    "GeneticAlgorithm = GeneticAlgorithm(\n",
    "    bounds               = bounds,\n",
    "    ga_params            = ga_params,\n",
    "    model_params         = model_params,\n",
    "    carrying_capacities  = carrying_capacities,\n",
    "    growth_rates         = growth_rates,\n",
    "    initial_conditions   = initial_conditions,\n",
    "    disturbances         = input_disturbances,\n",
    "    typical_disturbances = typical_disturbances\n",
    ")"
   ]
  },
  {
   "cell_type": "code",
   "execution_count": 16,
   "id": "0d9efdf8",
   "metadata": {},
   "outputs": [
    {
     "name": "stdout",
     "output_type": "stream",
     "text": [
      "Generation 0 of 200\n",
      "Generation 1 of 200\n",
      "Generation 2 of 200\n",
      "Generation 3 of 200\n",
      "RuntimeWarning occurred: overflow encountered in exp\n"
     ]
    },
    {
     "ename": "UnboundLocalError",
     "evalue": "cannot access local variable 'exp_val' where it is not associated with a value",
     "output_type": "error",
     "traceback": [
      "\u001b[0;31m---------------------------------------------------------------------------\u001b[0m",
      "\u001b[0;31mRuntimeWarning\u001b[0m                            Traceback (most recent call last)",
      "File \u001b[0;32m~/Library/Mobile Documents/com~apple~CloudDocs/Carla's Desktop/UC Berkeley/Research/Smart Farm/smartfarm/src/smartfarm/examples/../core/model/model_helpers.py:13\u001b[0m, in \u001b[0;36mget_nutrient_factor\u001b[0;34m(x, mu)\u001b[0m\n\u001b[1;32m     12\u001b[0m exp_arg \u001b[38;5;241m=\u001b[39m \u001b[38;5;241m1\u001b[39m\u001b[38;5;241m/\u001b[39m\u001b[38;5;241m100\u001b[39m\u001b[38;5;241m*\u001b[39m(x \u001b[38;5;241m-\u001b[39m mu)\n\u001b[0;32m---> 13\u001b[0m exp_val \u001b[38;5;241m=\u001b[39m \u001b[43mnp\u001b[49m\u001b[38;5;241;43m.\u001b[39;49m\u001b[43mexp\u001b[49m\u001b[43m(\u001b[49m\u001b[43mexp_arg\u001b[49m\u001b[43m)\u001b[49m\n\u001b[1;32m     14\u001b[0m nu \u001b[38;5;241m=\u001b[39m \u001b[38;5;241m1\u001b[39m\u001b[38;5;241m/\u001b[39m\u001b[38;5;241m2\u001b[39m \u001b[38;5;241m*\u001b[39m (\u001b[38;5;241m1\u001b[39m \u001b[38;5;241m/\u001b[39m (\u001b[38;5;241m1\u001b[39m \u001b[38;5;241m+\u001b[39m exp_val) \u001b[38;5;241m+\u001b[39m \u001b[38;5;241m1\u001b[39m)\n",
      "\u001b[0;31mRuntimeWarning\u001b[0m: overflow encountered in exp",
      "\nDuring handling of the above exception, another exception occurred:\n",
      "\u001b[0;31mUnboundLocalError\u001b[0m                         Traceback (most recent call last)",
      "Cell \u001b[0;32mIn[16], line 2\u001b[0m\n\u001b[1;32m      1\u001b[0m \u001b[38;5;66;03m# Run the Genetic Algorithm and save the result\u001b[39;00m\n\u001b[0;32m----> 2\u001b[0m GeneticAlgorithmResult \u001b[38;5;241m=\u001b[39m \u001b[43mGeneticAlgorithm\u001b[49m\u001b[38;5;241;43m.\u001b[39;49m\u001b[43mrun\u001b[49m\u001b[43m(\u001b[49m\u001b[43m)\u001b[49m\n",
      "File \u001b[0;32m~/Library/Mobile Documents/com~apple~CloudDocs/Carla's Desktop/UC Berkeley/Research/Smart Farm/smartfarm/src/smartfarm/examples/../core/genetic_algorithm/ga_run.py:166\u001b[0m, in \u001b[0;36mGeneticAlgorithm.run\u001b[0;34m(self)\u001b[0m\n\u001b[1;32m    159\u001b[0m population\u001b[38;5;241m.\u001b[39mset_random_values(\n\u001b[1;32m    160\u001b[0m     lower_bounds\u001b[38;5;241m=\u001b[39mlower_bounds,\n\u001b[1;32m    161\u001b[0m     upper_bounds\u001b[38;5;241m=\u001b[39mupper_bounds,\n\u001b[1;32m    162\u001b[0m     start_member\u001b[38;5;241m=\u001b[39mparents_plus_kids\n\u001b[1;32m    163\u001b[0m )\n\u001b[1;32m    165\u001b[0m \u001b[38;5;66;03m# Calculate the costs of the gth generation\u001b[39;00m\n\u001b[0;32m--> 166\u001b[0m \u001b[43mpopulation\u001b[49m\u001b[38;5;241;43m.\u001b[39;49m\u001b[43mset_costs\u001b[49m\u001b[43m(\u001b[49m\u001b[43m)\u001b[49m\n\u001b[1;32m    168\u001b[0m \u001b[38;5;66;03m# Sort the costs for the gth generation\u001b[39;00m\n\u001b[1;32m    169\u001b[0m [sorted_costs, sorted_indices] \u001b[38;5;241m=\u001b[39m population\u001b[38;5;241m.\u001b[39msort_costs()\n",
      "File \u001b[0;32m~/Library/Mobile Documents/com~apple~CloudDocs/Carla's Desktop/UC Berkeley/Research/Smart Farm/smartfarm/src/smartfarm/examples/../core/genetic_algorithm/ga_population.py:126\u001b[0m, in \u001b[0;36mPopulation.set_costs\u001b[0;34m(self)\u001b[0m\n\u001b[1;32m    115\u001b[0m \u001b[38;5;28;01mfor\u001b[39;00m i \u001b[38;5;129;01min\u001b[39;00m \u001b[38;5;28mrange\u001b[39m(num_members):\n\u001b[1;32m    116\u001b[0m     this_member \u001b[38;5;241m=\u001b[39m Member(\n\u001b[1;32m    117\u001b[0m         ga_params            \u001b[38;5;241m=\u001b[39m \u001b[38;5;28mself\u001b[39m\u001b[38;5;241m.\u001b[39mga_params,\n\u001b[1;32m    118\u001b[0m         bounds               \u001b[38;5;241m=\u001b[39m \u001b[38;5;28mself\u001b[39m\u001b[38;5;241m.\u001b[39mbounds,\n\u001b[0;32m   (...)\u001b[0m\n\u001b[1;32m    124\u001b[0m         typical_disturbances \u001b[38;5;241m=\u001b[39m \u001b[38;5;28mself\u001b[39m\u001b[38;5;241m.\u001b[39mtypical_disturbances,\n\u001b[1;32m    125\u001b[0m         values               \u001b[38;5;241m=\u001b[39m population_values[i, :])\n\u001b[0;32m--> 126\u001b[0m     costs[i] \u001b[38;5;241m=\u001b[39m \u001b[43mthis_member\u001b[49m\u001b[38;5;241;43m.\u001b[39;49m\u001b[43mget_cost\u001b[49m\u001b[43m(\u001b[49m\u001b[43m)\u001b[49m\n\u001b[1;32m    128\u001b[0m \u001b[38;5;28mself\u001b[39m\u001b[38;5;241m.\u001b[39mcosts \u001b[38;5;241m=\u001b[39m costs\n\u001b[1;32m    129\u001b[0m \u001b[38;5;28;01mreturn\u001b[39;00m \u001b[38;5;28mself\u001b[39m\n",
      "File \u001b[0;32m~/Library/Mobile Documents/com~apple~CloudDocs/Carla's Desktop/UC Berkeley/Research/Smart Farm/smartfarm/src/smartfarm/examples/../core/genetic_algorithm/ga_member.py:150\u001b[0m, in \u001b[0;36mMember.get_cost\u001b[0;34m(self)\u001b[0m\n\u001b[1;32m    147\u001b[0m cumulative_fertilizer[t\u001b[38;5;241m+\u001b[39m\u001b[38;5;241m1\u001b[39m] \u001b[38;5;241m=\u001b[39m FC\n\u001b[1;32m    149\u001b[0m \u001b[38;5;66;03m# Nutrient factors (bounded, nonnegative)\u001b[39;00m\n\u001b[0;32m--> 150\u001b[0m nuW \u001b[38;5;241m=\u001b[39m \u001b[43mget_nutrient_factor\u001b[49m\u001b[43m(\u001b[49m\u001b[43mWC\u001b[49m\u001b[43m,\u001b[49m\u001b[43m \u001b[49m\u001b[43mWC\u001b[49m\u001b[43m \u001b[49m\u001b[38;5;241;43m/\u001b[39;49m\u001b[43m \u001b[49m\u001b[38;5;28;43mmax\u001b[39;49m\u001b[43m(\u001b[49m\u001b[43mWC_opt\u001b[49m\u001b[43m,\u001b[49m\u001b[43m \u001b[49m\u001b[38;5;241;43m1e-9\u001b[39;49m\u001b[43m)\u001b[49m\u001b[43m)\u001b[49m \u001b[38;5;66;03m# optimal is over whole season TODO change accordingly\u001b[39;00m\n\u001b[1;32m    151\u001b[0m nuF \u001b[38;5;241m=\u001b[39m get_nutrient_factor(FC, FC \u001b[38;5;241m/\u001b[39m \u001b[38;5;28mmax\u001b[39m(FC_opt, \u001b[38;5;241m1e-9\u001b[39m)) \u001b[38;5;66;03m# optimal is over whole season\u001b[39;00m\n\u001b[1;32m    152\u001b[0m nuT \u001b[38;5;241m=\u001b[39m get_nutrient_factor(T,  T  \u001b[38;5;241m/\u001b[39m \u001b[38;5;28mmax\u001b[39m(T_typ, \u001b[38;5;241m1e-9\u001b[39m))\n",
      "File \u001b[0;32m~/Library/Mobile Documents/com~apple~CloudDocs/Carla's Desktop/UC Berkeley/Research/Smart Farm/smartfarm/src/smartfarm/examples/../core/model/model_helpers.py:19\u001b[0m, in \u001b[0;36mget_nutrient_factor\u001b[0;34m(x, mu)\u001b[0m\n\u001b[1;32m     16\u001b[0m \u001b[38;5;28;01mexcept\u001b[39;00m \u001b[38;5;167;01mRuntimeWarning\u001b[39;00m \u001b[38;5;28;01mas\u001b[39;00m e:\n\u001b[1;32m     17\u001b[0m     \u001b[38;5;66;03m# This block will now catch the promoted RuntimeWarning\u001b[39;00m\n\u001b[1;32m     18\u001b[0m     \u001b[38;5;28mprint\u001b[39m(\u001b[38;5;124mf\u001b[39m\u001b[38;5;124m\"\u001b[39m\u001b[38;5;124mRuntimeWarning occurred: \u001b[39m\u001b[38;5;132;01m{\u001b[39;00me\u001b[38;5;132;01m}\u001b[39;00m\u001b[38;5;124m\"\u001b[39m)\n\u001b[0;32m---> 19\u001b[0m     \u001b[38;5;28mprint\u001b[39m(\u001b[38;5;124mf\u001b[39m\u001b[38;5;124m'\u001b[39m\u001b[38;5;124mx: \u001b[39m\u001b[38;5;132;01m{\u001b[39;00mx\u001b[38;5;132;01m}\u001b[39;00m\u001b[38;5;124m, mu: \u001b[39m\u001b[38;5;132;01m{\u001b[39;00mmu\u001b[38;5;132;01m}\u001b[39;00m\u001b[38;5;124m, exp arg: \u001b[39m\u001b[38;5;132;01m{\u001b[39;00mexp_arg\u001b[38;5;132;01m}\u001b[39;00m\u001b[38;5;124m, exp: \u001b[39m\u001b[38;5;132;01m{\u001b[39;00m\u001b[43mexp_val\u001b[49m\u001b[38;5;132;01m}\u001b[39;00m\u001b[38;5;124m'\u001b[39m)\n\u001b[1;32m     20\u001b[0m     \u001b[38;5;66;03m# You might want to return a specific value or re-raise\u001b[39;00m\n\u001b[1;32m     21\u001b[0m     \u001b[38;5;28;01mreturn\u001b[39;00m np\u001b[38;5;241m.\u001b[39mnan \u001b[38;5;66;03m# Or a sensible default value\u001b[39;00m\n",
      "\u001b[0;31mUnboundLocalError\u001b[0m: cannot access local variable 'exp_val' where it is not associated with a value"
     ]
    }
   ],
   "source": [
    "# Run the Genetic Algorithm and save the result\n",
    "GeneticAlgorithmResult = GeneticAlgorithm.run()"
   ]
  },
  {
   "cell_type": "code",
   "execution_count": null,
   "id": "e9c7b21b",
   "metadata": {},
   "outputs": [],
   "source": []
  }
 ],
 "metadata": {
  "kernelspec": {
   "display_name": "3.12.2",
   "language": "python",
   "name": "python3"
  },
  "language_info": {
   "codemirror_mode": {
    "name": "ipython",
    "version": 3
   },
   "file_extension": ".py",
   "mimetype": "text/x-python",
   "name": "python",
   "nbconvert_exporter": "python",
   "pygments_lexer": "ipython3",
   "version": "3.12.2"
  }
 },
 "nbformat": 4,
 "nbformat_minor": 5
}
